{
  "nbformat": 4,
  "nbformat_minor": 0,
  "metadata": {
    "colab": {
      "provenance": [],
      "authorship_tag": "ABX9TyO/OqGJ5aUTEFpfdeQe3B7l",
      "include_colab_link": true
    },
    "kernelspec": {
      "name": "python3",
      "display_name": "Python 3"
    },
    "language_info": {
      "name": "python"
    }
  },
  "cells": [
    {
      "cell_type": "markdown",
      "metadata": {
        "id": "view-in-github",
        "colab_type": "text"
      },
      "source": [
        "<a href=\"https://colab.research.google.com/github/hang-1n-there/pytorch_learn/blob/main/%ED%96%89%EB%A0%AC_%EA%B3%B1.ipynb\" target=\"_parent\"><img src=\"https://colab.research.google.com/assets/colab-badge.svg\" alt=\"Open In Colab\"/></a>"
      ]
    },
    {
      "cell_type": "markdown",
      "source": [
        "\n",
        "\n",
        "*   2차원 행렬 곱 : matmul\n",
        "*   3차원 텐서 곱 : bmm\n",
        "\n"
      ],
      "metadata": {
        "id": "Nv3pyCT2MJ0m"
      }
    },
    {
      "cell_type": "code",
      "source": [
        "import torch"
      ],
      "metadata": {
        "id": "oD2JDw3wKwIQ"
      },
      "execution_count": null,
      "outputs": []
    },
    {
      "cell_type": "code",
      "execution_count": null,
      "metadata": {
        "colab": {
          "base_uri": "https://localhost:8080/"
        },
        "id": "yFtty9O2Jur2",
        "outputId": "69c5a979-84bd-4db4-aa07-b36092bebd07"
      },
      "outputs": [
        {
          "output_type": "stream",
          "name": "stdout",
          "text": [
            "tensor([[ 3.,  6.],\n",
            "        [ 7., 14.],\n",
            "        [11., 22.]])\n",
            "torch.Size([3, 2])\n"
          ]
        }
      ],
      "source": [
        "x=torch.FloatTensor([[1,2],[3,4],[5,6]])\n",
        "y=torch.FloatTensor([[1,2],[1,2]])\n",
        "\n",
        "z=torch.matmul(x,y)\n",
        "print(z)\n",
        "print(z.size())"
      ]
    },
    {
      "cell_type": "code",
      "source": [
        "x=torch.randperm(18).reshape(3,3,-1)\n",
        "y=torch.randperm(18).reshape(3,2,-1)\n",
        "z = torch.bmm(x,y)\n",
        "\n",
        "print(z)\n",
        "print(z.size())"
      ],
      "metadata": {
        "colab": {
          "base_uri": "https://localhost:8080/"
        },
        "id": "rTPA2bpmK9xT",
        "outputId": "b544de22-4d1c-45ea-8db9-06730ef9e7e6"
      },
      "execution_count": null,
      "outputs": [
        {
          "output_type": "stream",
          "name": "stdout",
          "text": [
            "tensor([[[ 69,  75, 273],\n",
            "         [ 30,  24,  60],\n",
            "         [ 81, 100, 402]],\n",
            "\n",
            "        [[ 82, 123,  86],\n",
            "         [239, 276, 142],\n",
            "         [141, 204, 138]],\n",
            "\n",
            "        [[ 60,  36,  82],\n",
            "         [105, 210, 238],\n",
            "         [165, 134, 248]]])\n",
            "torch.Size([3, 3, 3])\n"
          ]
        }
      ]
    }
  ]
}
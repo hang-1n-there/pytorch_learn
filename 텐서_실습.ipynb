{
  "nbformat": 4,
  "nbformat_minor": 0,
  "metadata": {
    "colab": {
      "provenance": [],
      "authorship_tag": "ABX9TyNEeo5giULT4IQCDjB3sgGe",
      "include_colab_link": true
    },
    "kernelspec": {
      "name": "python3",
      "display_name": "Python 3"
    },
    "language_info": {
      "name": "python"
    }
  },
  "cells": [
    {
      "cell_type": "markdown",
      "metadata": {
        "id": "view-in-github",
        "colab_type": "text"
      },
      "source": [
        "<a href=\"https://colab.research.google.com/github/hang-1n-there/pytorch_learn/blob/main/%ED%85%90%EC%84%9C_%EC%8B%A4%EC%8A%B5.ipynb\" target=\"_parent\"><img src=\"https://colab.research.google.com/assets/colab-badge.svg\" alt=\"Open In Colab\"/></a>"
      ]
    },
    {
      "cell_type": "code",
      "execution_count": null,
      "metadata": {
        "id": "7MMhGUXjJR-r"
      },
      "outputs": [],
      "source": [
        "import torch"
      ]
    },
    {
      "cell_type": "markdown",
      "source": [
        "언더바 추가 시 call by reference"
      ],
      "metadata": {
        "id": "M7IxplFDLLKF"
      }
    },
    {
      "cell_type": "code",
      "source": [
        "a=torch.FloatTensor([[1,2],[2,3]\n",
        "                     ,[3,4],[5,6]])\n",
        "b=torch.FloatTensor([[1,2],[2,3]\n",
        "                     ,[3,4],[5,6]])\n",
        "\n",
        "print(a.mul(b))\n",
        "print(a)\n",
        "print(a.mul_(b))\n",
        "print(a)"
      ],
      "metadata": {
        "colab": {
          "base_uri": "https://localhost:8080/"
        },
        "id": "5oF_cml_JVJy",
        "outputId": "05736779-4cf6-4448-b6d6-df6982e4ac74"
      },
      "execution_count": null,
      "outputs": [
        {
          "output_type": "stream",
          "name": "stdout",
          "text": [
            "tensor([[ 1.,  4.],\n",
            "        [ 4.,  9.],\n",
            "        [ 9., 16.],\n",
            "        [25., 36.]])\n",
            "tensor([[1., 2.],\n",
            "        [2., 3.],\n",
            "        [3., 4.],\n",
            "        [5., 6.]])\n",
            "tensor([[ 1.,  4.],\n",
            "        [ 4.,  9.],\n",
            "        [ 9., 16.],\n",
            "        [25., 36.]])\n",
            "tensor([[ 1.,  4.],\n",
            "        [ 4.,  9.],\n",
            "        [ 9., 16.],\n",
            "        [25., 36.]])\n"
          ]
        }
      ]
    },
    {
      "cell_type": "markdown",
      "source": [
        "dim=0(axis=0) : 1차원\n",
        "dim=1(axis=1) : 2차원"
      ],
      "metadata": {
        "id": "TxPWKHgdK_Hm"
      }
    },
    {
      "cell_type": "code",
      "source": [
        "print(a.sum(dim=0))\n",
        "print(a.sum(dim=-1))"
      ],
      "metadata": {
        "colab": {
          "base_uri": "https://localhost:8080/"
        },
        "id": "1a4GQWsoJ48p",
        "outputId": "4d6bd594-8395-469e-c702-87ec6f75aeab"
      },
      "execution_count": null,
      "outputs": [
        {
          "output_type": "stream",
          "name": "stdout",
          "text": [
            "tensor([39., 65.])\n",
            "tensor([ 5., 13., 25., 61.])\n"
          ]
        }
      ]
    },
    {
      "cell_type": "markdown",
      "source": [
        "squeeze : 특정 차원이 1인 경우 삭제\n",
        "unsqueeze : 정해진 차원에 1을 추가"
      ],
      "metadata": {
        "id": "R0DVmuxBmcQ3"
      }
    },
    {
      "cell_type": "code",
      "source": [
        "print(a.unsqueeze(2).size())\n",
        "print(a.squeeze().size())"
      ],
      "metadata": {
        "colab": {
          "base_uri": "https://localhost:8080/"
        },
        "id": "Q6hEfoKnK0g0",
        "outputId": "454f642d-9cc9-4b4b-c50d-d2f9e651ce18"
      },
      "execution_count": null,
      "outputs": [
        {
          "output_type": "stream",
          "name": "stdout",
          "text": [
            "torch.Size([4, 2, 1])\n",
            "torch.Size([4, 2])\n"
          ]
        }
      ]
    }
  ]
}